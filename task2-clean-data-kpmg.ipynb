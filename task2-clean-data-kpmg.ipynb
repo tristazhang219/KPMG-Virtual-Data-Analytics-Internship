{
 "cells": [
  {
   "cell_type": "code",
   "execution_count": 222,
   "id": "2661784e",
   "metadata": {},
   "outputs": [
    {
     "ename": "SyntaxError",
     "evalue": "invalid syntax (3348524043.py, line 1)",
     "output_type": "error",
     "traceback": [
      "\u001b[0;36m  File \u001b[0;32m\"/var/folders/m1/jbjb_8rx4sg7b_vnnskyymn40000gn/T/ipykernel_28757/3348524043.py\"\u001b[0;36m, line \u001b[0;32m1\u001b[0m\n\u001b[0;31m    Exploratory Data Analyst\u001b[0m\n\u001b[0m                ^\u001b[0m\n\u001b[0;31mSyntaxError\u001b[0m\u001b[0;31m:\u001b[0m invalid syntax\n"
     ]
    }
   ],
   "source": [
    "Exploratory Data Analyst"
   ]
  },
  {
   "cell_type": "code",
   "execution_count": null,
   "id": "553f95ef",
   "metadata": {},
   "outputs": [],
   "source": [
    "import matplotlib.pyplot as plt\n",
    "import seaborn as sns\n",
    "import pandas as pd\n",
    "\n",
    "# Shows plots in jupyter notebook\n",
    "%matplotlib inline\n",
    "\n",
    "# Set plot style\n",
    "sns.set(color_codes=True)\n",
    "\n",
    "import numpy as np"
   ]
  },
  {
   "cell_type": "code",
   "execution_count": null,
   "id": "c5324d4f",
   "metadata": {},
   "outputs": [],
   "source": [
    "transaction=pd.read_csv('/Users/xuyangzhang/Desktop/FORAGE PROGRAM/kpmg/transactions.csv')"
   ]
  },
  {
   "cell_type": "code",
   "execution_count": null,
   "id": "9fb943f4",
   "metadata": {},
   "outputs": [],
   "source": [
    "address=pd.read_csv('/Users/xuyangzhang/Desktop/FORAGE PROGRAM/kpmg/customeraddress.csv')"
   ]
  },
  {
   "cell_type": "code",
   "execution_count": 286,
   "id": "8ca0c8a3",
   "metadata": {},
   "outputs": [],
   "source": [
    "demographic=pd.read_csv('/Users/xuyangzhang/Desktop/FORAGE PROGRAM/kpmg/customerdemographic.csv')"
   ]
  },
  {
   "cell_type": "code",
   "execution_count": null,
   "id": "cf75b344",
   "metadata": {},
   "outputs": [],
   "source": [
    "#Clean Transaction data"
   ]
  },
  {
   "cell_type": "code",
   "execution_count": null,
   "id": "8c8a458d",
   "metadata": {},
   "outputs": [],
   "source": [
    "transaction.info()"
   ]
  },
  {
   "cell_type": "code",
   "execution_count": 202,
   "id": "ebb45983",
   "metadata": {},
   "outputs": [],
   "source": [
    "transaction['online_order']=(transaction['online_order']=='True').astype(int)"
   ]
  },
  {
   "cell_type": "code",
   "execution_count": 200,
   "id": "c02561c0",
   "metadata": {},
   "outputs": [
    {
     "data": {
      "text/plain": [
       "transaction_id               0\n",
       "product_id                   0\n",
       "customer_id                  0\n",
       "transaction_date             0\n",
       "online_order                 0\n",
       "order_status                 0\n",
       "brand                        0\n",
       "product_line                 0\n",
       "product_class              197\n",
       "product_size                 0\n",
       "list_price                   0\n",
       "standard_cost              176\n",
       "product_first_sold_date      0\n",
       "product_calss                0\n",
       "dtype: int64"
      ]
     },
     "execution_count": 200,
     "metadata": {},
     "output_type": "execute_result"
    }
   ],
   "source": [
    "transaction.isnull().sum()"
   ]
  },
  {
   "cell_type": "code",
   "execution_count": 173,
   "id": "e04484ca",
   "metadata": {},
   "outputs": [],
   "source": [
    "#sort columns by customer id and transaction date\n",
    "transaction=transaction.sort_values(['customer_id','transaction_date'])"
   ]
  },
  {
   "cell_type": "code",
   "execution_count": 174,
   "id": "7bcb1213",
   "metadata": {},
   "outputs": [
    {
     "data": {
      "text/plain": [
       "True     9829\n",
       "False    9811\n",
       "Name: online_order, dtype: int64"
      ]
     },
     "execution_count": 174,
     "metadata": {},
     "output_type": "execute_result"
    }
   ],
   "source": [
    "#count online orders\n",
    "transaction['online_order'].value_counts()"
   ]
  },
  {
   "cell_type": "code",
   "execution_count": 175,
   "id": "e3a696d5",
   "metadata": {},
   "outputs": [],
   "source": [
    "transaction['online_order']=transaction['online_order'].fillna(method='bfill')"
   ]
  },
  {
   "cell_type": "code",
   "execution_count": 176,
   "id": "fc464e85",
   "metadata": {},
   "outputs": [
    {
     "data": {
      "text/plain": [
       "Solex             4253\n",
       "Giant Bicycles    3312\n",
       "WeareA2B          3295\n",
       "OHM Cycles        3043\n",
       "Trek Bicycles     2990\n",
       "Norco Bicycles    2910\n",
       "Name: brand, dtype: int64"
      ]
     },
     "execution_count": 176,
     "metadata": {},
     "output_type": "execute_result"
    }
   ],
   "source": [
    "transaction['brand'].value_counts()"
   ]
  },
  {
   "cell_type": "code",
   "execution_count": 177,
   "id": "8cfdbb13",
   "metadata": {},
   "outputs": [],
   "source": [
    "transaction['brand']=transaction['brand'].fillna(method='ffill')"
   ]
  },
  {
   "cell_type": "code",
   "execution_count": 178,
   "id": "91dabb75",
   "metadata": {},
   "outputs": [
    {
     "data": {
      "text/plain": [
       "Standard    14176\n",
       "Road         3970\n",
       "Touring      1234\n",
       "Mountain      423\n",
       "Name: product_line, dtype: int64"
      ]
     },
     "execution_count": 178,
     "metadata": {},
     "output_type": "execute_result"
    }
   ],
   "source": [
    "transaction['product_line'].value_counts()"
   ]
  },
  {
   "cell_type": "code",
   "execution_count": 179,
   "id": "fb40a0a9",
   "metadata": {},
   "outputs": [],
   "source": [
    "transaction['product_line']=transaction['product_line'].fillna(method='bfill')"
   ]
  },
  {
   "cell_type": "raw",
   "id": "ddfc5c1d",
   "metadata": {},
   "source": [
    "transaction['product_calss'].value_counts()"
   ]
  },
  {
   "cell_type": "code",
   "execution_count": 180,
   "id": "95279070",
   "metadata": {},
   "outputs": [
    {
     "data": {
      "text/plain": [
       "medium    13826\n",
       "high       3013\n",
       "low        2964\n",
       "Name: product_class, dtype: int64"
      ]
     },
     "execution_count": 180,
     "metadata": {},
     "output_type": "execute_result"
    }
   ],
   "source": [
    "transaction['product_class'].value_counts()"
   ]
  },
  {
   "cell_type": "code",
   "execution_count": 190,
   "id": "e2b61e9f",
   "metadata": {},
   "outputs": [],
   "source": [
    "transaction['product_calss']=transaction['product_class'].fillna(method='bfill')"
   ]
  },
  {
   "cell_type": "code",
   "execution_count": 191,
   "id": "b7dc30a0",
   "metadata": {},
   "outputs": [
    {
     "data": {
      "text/plain": [
       "medium    13113\n",
       "large      4022\n",
       "small      2865\n",
       "Name: product_size, dtype: int64"
      ]
     },
     "execution_count": 191,
     "metadata": {},
     "output_type": "execute_result"
    }
   ],
   "source": [
    "transaction['product_size'].value_counts()"
   ]
  },
  {
   "cell_type": "code",
   "execution_count": 192,
   "id": "e6df171b",
   "metadata": {},
   "outputs": [],
   "source": [
    "transaction['product_size']=transaction['product_size'].fillna(method='ffill')"
   ]
  },
  {
   "cell_type": "code",
   "execution_count": 194,
   "id": "e96b38e6",
   "metadata": {},
   "outputs": [],
   "source": [
    "transaction['standard_cost'] = transaction['standard_cost'].astype(str).astype(float)"
   ]
  },
  {
   "cell_type": "code",
   "execution_count": 195,
   "id": "aa7b8e3f",
   "metadata": {},
   "outputs": [
    {
     "data": {
      "text/html": [
       "<div>\n",
       "<style scoped>\n",
       "    .dataframe tbody tr th:only-of-type {\n",
       "        vertical-align: middle;\n",
       "    }\n",
       "\n",
       "    .dataframe tbody tr th {\n",
       "        vertical-align: top;\n",
       "    }\n",
       "\n",
       "    .dataframe thead th {\n",
       "        text-align: right;\n",
       "    }\n",
       "</style>\n",
       "<table border=\"1\" class=\"dataframe\">\n",
       "  <thead>\n",
       "    <tr style=\"text-align: right;\">\n",
       "      <th></th>\n",
       "      <th>transaction_id</th>\n",
       "      <th>product_id</th>\n",
       "      <th>online_order</th>\n",
       "      <th>list_price</th>\n",
       "      <th>standard_cost</th>\n",
       "      <th>product_first_sold_date</th>\n",
       "    </tr>\n",
       "    <tr>\n",
       "      <th>customer_id</th>\n",
       "      <th></th>\n",
       "      <th></th>\n",
       "      <th></th>\n",
       "      <th></th>\n",
       "      <th></th>\n",
       "      <th></th>\n",
       "    </tr>\n",
       "  </thead>\n",
       "  <tbody>\n",
       "    <tr>\n",
       "      <th>1</th>\n",
       "      <td>11,485.64</td>\n",
       "      <td>34.18</td>\n",
       "      <td>0.55</td>\n",
       "      <td>825.86</td>\n",
       "      <td>551.49</td>\n",
       "      <td>37,314.09</td>\n",
       "    </tr>\n",
       "    <tr>\n",
       "      <th>2</th>\n",
       "      <td>8,471.67</td>\n",
       "      <td>37.33</td>\n",
       "      <td>0.33</td>\n",
       "      <td>1,383.02</td>\n",
       "      <td>640.94</td>\n",
       "      <td>38,775.67</td>\n",
       "    </tr>\n",
       "    <tr>\n",
       "      <th>3</th>\n",
       "      <td>13,842.62</td>\n",
       "      <td>60.38</td>\n",
       "      <td>0.12</td>\n",
       "      <td>1,236.03</td>\n",
       "      <td>815.68</td>\n",
       "      <td>39,350.25</td>\n",
       "    </tr>\n",
       "    <tr>\n",
       "      <th>4</th>\n",
       "      <td>13,544.50</td>\n",
       "      <td>78.50</td>\n",
       "      <td>0.50</td>\n",
       "      <td>523.86</td>\n",
       "      <td>413.58</td>\n",
       "      <td>36,008.50</td>\n",
       "    </tr>\n",
       "    <tr>\n",
       "      <th>5</th>\n",
       "      <td>7,969.67</td>\n",
       "      <td>48.17</td>\n",
       "      <td>0.33</td>\n",
       "      <td>983.87</td>\n",
       "      <td>584.71</td>\n",
       "      <td>37,361.00</td>\n",
       "    </tr>\n",
       "    <tr>\n",
       "      <th>...</th>\n",
       "      <td>...</td>\n",
       "      <td>...</td>\n",
       "      <td>...</td>\n",
       "      <td>...</td>\n",
       "      <td>...</td>\n",
       "      <td>...</td>\n",
       "    </tr>\n",
       "    <tr>\n",
       "      <th>3497</th>\n",
       "      <td>8,565.00</td>\n",
       "      <td>32.33</td>\n",
       "      <td>0.67</td>\n",
       "      <td>1,248.02</td>\n",
       "      <td>698.58</td>\n",
       "      <td>38,680.33</td>\n",
       "    </tr>\n",
       "    <tr>\n",
       "      <th>3498</th>\n",
       "      <td>9,327.50</td>\n",
       "      <td>72.17</td>\n",
       "      <td>0.83</td>\n",
       "      <td>862.84</td>\n",
       "      <td>338.29</td>\n",
       "      <td>37,723.67</td>\n",
       "    </tr>\n",
       "    <tr>\n",
       "      <th>3499</th>\n",
       "      <td>6,871.29</td>\n",
       "      <td>42.71</td>\n",
       "      <td>0.57</td>\n",
       "      <td>1,096.21</td>\n",
       "      <td>388.32</td>\n",
       "      <td>38,163.86</td>\n",
       "    </tr>\n",
       "    <tr>\n",
       "      <th>3500</th>\n",
       "      <td>10,076.00</td>\n",
       "      <td>40.00</td>\n",
       "      <td>0.33</td>\n",
       "      <td>820.40</td>\n",
       "      <td>522.76</td>\n",
       "      <td>36,432.50</td>\n",
       "    </tr>\n",
       "    <tr>\n",
       "      <th>5034</th>\n",
       "      <td>14,292.67</td>\n",
       "      <td>0.00</td>\n",
       "      <td>0.00</td>\n",
       "      <td>506.64</td>\n",
       "      <td>416.81</td>\n",
       "      <td>37,254.67</td>\n",
       "    </tr>\n",
       "  </tbody>\n",
       "</table>\n",
       "<p>3494 rows × 6 columns</p>\n",
       "</div>"
      ],
      "text/plain": [
       "             transaction_id  product_id  online_order  list_price  \\\n",
       "customer_id                                                         \n",
       "1                 11,485.64       34.18          0.55      825.86   \n",
       "2                  8,471.67       37.33          0.33    1,383.02   \n",
       "3                 13,842.62       60.38          0.12    1,236.03   \n",
       "4                 13,544.50       78.50          0.50      523.86   \n",
       "5                  7,969.67       48.17          0.33      983.87   \n",
       "...                     ...         ...           ...         ...   \n",
       "3497               8,565.00       32.33          0.67    1,248.02   \n",
       "3498               9,327.50       72.17          0.83      862.84   \n",
       "3499               6,871.29       42.71          0.57    1,096.21   \n",
       "3500              10,076.00       40.00          0.33      820.40   \n",
       "5034              14,292.67        0.00          0.00      506.64   \n",
       "\n",
       "             standard_cost  product_first_sold_date  \n",
       "customer_id                                          \n",
       "1                   551.49                37,314.09  \n",
       "2                   640.94                38,775.67  \n",
       "3                   815.68                39,350.25  \n",
       "4                   413.58                36,008.50  \n",
       "5                   584.71                37,361.00  \n",
       "...                    ...                      ...  \n",
       "3497                698.58                38,680.33  \n",
       "3498                338.29                37,723.67  \n",
       "3499                388.32                38,163.86  \n",
       "3500                522.76                36,432.50  \n",
       "5034                416.81                37,254.67  \n",
       "\n",
       "[3494 rows x 6 columns]"
      ]
     },
     "execution_count": 195,
     "metadata": {},
     "output_type": "execute_result"
    }
   ],
   "source": [
    "meancost=transaction.groupby(['customer_id']).mean().round(decimals=2)\n",
    "meancost"
   ]
  },
  {
   "cell_type": "code",
   "execution_count": 196,
   "id": "250f1ad3",
   "metadata": {},
   "outputs": [],
   "source": [
    "transaction['standard_cost']=transaction['standard_cost'].fillna(meancost.standard_cost)"
   ]
  },
  {
   "cell_type": "code",
   "execution_count": 197,
   "id": "758729fe",
   "metadata": {},
   "outputs": [],
   "source": [
    "transaction['product_first_sold_date']=transaction['product_first_sold_date'].fillna(transaction['product_first_sold_date'].mean())"
   ]
  },
  {
   "cell_type": "code",
   "execution_count": 218,
   "id": "3ffafab5",
   "metadata": {},
   "outputs": [],
   "source": [
    "transaction['product_class'].replace('', np.nan, inplace=True)"
   ]
  },
  {
   "cell_type": "code",
   "execution_count": 219,
   "id": "512c0b67",
   "metadata": {},
   "outputs": [],
   "source": [
    "transaction.dropna(subset=['product_class'], inplace=True)"
   ]
  },
  {
   "cell_type": "code",
   "execution_count": 225,
   "id": "a7630c56",
   "metadata": {},
   "outputs": [],
   "source": [
    "transaction['transaction_date']=pd.to_datetime(transaction['transaction_date'])"
   ]
  },
  {
   "cell_type": "code",
   "execution_count": 228,
   "id": "0ebaccb8",
   "metadata": {},
   "outputs": [
    {
     "name": "stdout",
     "output_type": "stream",
     "text": [
      "<class 'pandas.core.frame.DataFrame'>\n",
      "Int64Index: 19803 entries, 9784 to 8707\n",
      "Data columns (total 14 columns):\n",
      " #   Column                   Non-Null Count  Dtype         \n",
      "---  ------                   --------------  -----         \n",
      " 0   transaction_id           19803 non-null  int64         \n",
      " 1   product_id               19803 non-null  int64         \n",
      " 2   customer_id              19803 non-null  int64         \n",
      " 3   transaction_date         19803 non-null  datetime64[ns]\n",
      " 4   online_order             19803 non-null  int64         \n",
      " 5   order_status             19803 non-null  object        \n",
      " 6   brand                    19803 non-null  object        \n",
      " 7   product_line             19803 non-null  object        \n",
      " 8   product_class            19803 non-null  object        \n",
      " 9   product_size             19803 non-null  object        \n",
      " 10  list_price               19803 non-null  float64       \n",
      " 11  standard_cost            19803 non-null  float64       \n",
      " 12  product_first_sold_date  19803 non-null  float64       \n",
      " 13  product_calss            19803 non-null  object        \n",
      "dtypes: datetime64[ns](1), float64(3), int64(4), object(6)\n",
      "memory usage: 2.3+ MB\n"
     ]
    }
   ],
   "source": [
    "transaction.info()"
   ]
  },
  {
   "cell_type": "code",
   "execution_count": 227,
   "id": "172cbf9a",
   "metadata": {},
   "outputs": [],
   "source": [
    "transaction.to_csv('/Users/xuyangzhang/Desktop/FORAGE PROGRAM/kpmg/transaction_clean.csv',index=False)"
   ]
  },
  {
   "cell_type": "code",
   "execution_count": null,
   "id": "59129e8d",
   "metadata": {},
   "outputs": [],
   "source": [
    "#Clean demographic table"
   ]
  },
  {
   "cell_type": "code",
   "execution_count": 287,
   "id": "8fe3fe86",
   "metadata": {},
   "outputs": [],
   "source": [
    "demographic['DOB']=pd.to_datetime(demographic['DOB'])"
   ]
  },
  {
   "cell_type": "code",
   "execution_count": 288,
   "id": "31874e86",
   "metadata": {},
   "outputs": [
    {
     "name": "stdout",
     "output_type": "stream",
     "text": [
      "<class 'pandas.core.frame.DataFrame'>\n",
      "RangeIndex: 3998 entries, 0 to 3997\n",
      "Data columns (total 12 columns):\n",
      " #   Column                               Non-Null Count  Dtype         \n",
      "---  ------                               --------------  -----         \n",
      " 0   customer_id                          3998 non-null   int64         \n",
      " 1   first_name                           3998 non-null   object        \n",
      " 2   last_name                            3873 non-null   object        \n",
      " 3   gender                               3998 non-null   object        \n",
      " 4   past_3_years_bike_related_purchases  3998 non-null   int64         \n",
      " 5   DOB                                  3911 non-null   datetime64[ns]\n",
      " 6   job_title                            3492 non-null   object        \n",
      " 7   job_industry_category                3342 non-null   object        \n",
      " 8   wealth_segment                       3998 non-null   object        \n",
      " 9   deceased_indicator                   3998 non-null   object        \n",
      " 10  owns_car                             3998 non-null   object        \n",
      " 11  tenure                               3911 non-null   float64       \n",
      "dtypes: datetime64[ns](1), float64(1), int64(2), object(8)\n",
      "memory usage: 374.9+ KB\n"
     ]
    }
   ],
   "source": [
    "demographic.info()"
   ]
  },
  {
   "cell_type": "code",
   "execution_count": 289,
   "id": "70081431",
   "metadata": {},
   "outputs": [
    {
     "data": {
      "text/html": [
       "<div>\n",
       "<style scoped>\n",
       "    .dataframe tbody tr th:only-of-type {\n",
       "        vertical-align: middle;\n",
       "    }\n",
       "\n",
       "    .dataframe tbody tr th {\n",
       "        vertical-align: top;\n",
       "    }\n",
       "\n",
       "    .dataframe thead th {\n",
       "        text-align: right;\n",
       "    }\n",
       "</style>\n",
       "<table border=\"1\" class=\"dataframe\">\n",
       "  <thead>\n",
       "    <tr style=\"text-align: right;\">\n",
       "      <th></th>\n",
       "      <th>customer_id</th>\n",
       "      <th>first_name</th>\n",
       "      <th>last_name</th>\n",
       "      <th>gender</th>\n",
       "      <th>past_3_years_bike_related_purchases</th>\n",
       "      <th>DOB</th>\n",
       "      <th>job_title</th>\n",
       "      <th>job_industry_category</th>\n",
       "      <th>wealth_segment</th>\n",
       "      <th>deceased_indicator</th>\n",
       "      <th>owns_car</th>\n",
       "      <th>tenure</th>\n",
       "    </tr>\n",
       "  </thead>\n",
       "  <tbody>\n",
       "    <tr>\n",
       "      <th>0</th>\n",
       "      <td>3</td>\n",
       "      <td>Arlin</td>\n",
       "      <td>Dearle</td>\n",
       "      <td>Male</td>\n",
       "      <td>61</td>\n",
       "      <td>2054-01-20</td>\n",
       "      <td>Recruiting Manager</td>\n",
       "      <td>Property</td>\n",
       "      <td>Mass Customer</td>\n",
       "      <td>N</td>\n",
       "      <td>Yes</td>\n",
       "      <td>15.00</td>\n",
       "    </tr>\n",
       "    <tr>\n",
       "      <th>1</th>\n",
       "      <td>4</td>\n",
       "      <td>Talbot</td>\n",
       "      <td>NaN</td>\n",
       "      <td>Male</td>\n",
       "      <td>33</td>\n",
       "      <td>2061-10-03</td>\n",
       "      <td>NaN</td>\n",
       "      <td>IT</td>\n",
       "      <td>Mass Customer</td>\n",
       "      <td>N</td>\n",
       "      <td>No</td>\n",
       "      <td>7.00</td>\n",
       "    </tr>\n",
       "    <tr>\n",
       "      <th>2</th>\n",
       "      <td>5</td>\n",
       "      <td>Sheila-kathryn</td>\n",
       "      <td>Calton</td>\n",
       "      <td>Female</td>\n",
       "      <td>56</td>\n",
       "      <td>1977-05-13</td>\n",
       "      <td>Senior Editor</td>\n",
       "      <td>NaN</td>\n",
       "      <td>Affluent Customer</td>\n",
       "      <td>N</td>\n",
       "      <td>Yes</td>\n",
       "      <td>8.00</td>\n",
       "    </tr>\n",
       "    <tr>\n",
       "      <th>3</th>\n",
       "      <td>6</td>\n",
       "      <td>Curr</td>\n",
       "      <td>Duckhouse</td>\n",
       "      <td>Male</td>\n",
       "      <td>35</td>\n",
       "      <td>2066-09-16</td>\n",
       "      <td>NaN</td>\n",
       "      <td>Retail</td>\n",
       "      <td>High Net Worth</td>\n",
       "      <td>N</td>\n",
       "      <td>Yes</td>\n",
       "      <td>13.00</td>\n",
       "    </tr>\n",
       "    <tr>\n",
       "      <th>4</th>\n",
       "      <td>7</td>\n",
       "      <td>Fina</td>\n",
       "      <td>Merali</td>\n",
       "      <td>Female</td>\n",
       "      <td>6</td>\n",
       "      <td>1976-02-23</td>\n",
       "      <td>NaN</td>\n",
       "      <td>Financial Services</td>\n",
       "      <td>Affluent Customer</td>\n",
       "      <td>N</td>\n",
       "      <td>Yes</td>\n",
       "      <td>11.00</td>\n",
       "    </tr>\n",
       "  </tbody>\n",
       "</table>\n",
       "</div>"
      ],
      "text/plain": [
       "   customer_id      first_name  last_name  gender  \\\n",
       "0            3           Arlin     Dearle    Male   \n",
       "1            4          Talbot        NaN    Male   \n",
       "2            5  Sheila-kathryn     Calton  Female   \n",
       "3            6            Curr  Duckhouse    Male   \n",
       "4            7            Fina     Merali  Female   \n",
       "\n",
       "   past_3_years_bike_related_purchases        DOB           job_title  \\\n",
       "0                                   61 2054-01-20  Recruiting Manager   \n",
       "1                                   33 2061-10-03                 NaN   \n",
       "2                                   56 1977-05-13       Senior Editor   \n",
       "3                                   35 2066-09-16                 NaN   \n",
       "4                                    6 1976-02-23                 NaN   \n",
       "\n",
       "  job_industry_category     wealth_segment deceased_indicator owns_car  tenure  \n",
       "0              Property      Mass Customer                  N      Yes   15.00  \n",
       "1                    IT      Mass Customer                  N       No    7.00  \n",
       "2                   NaN  Affluent Customer                  N      Yes    8.00  \n",
       "3                Retail     High Net Worth                  N      Yes   13.00  \n",
       "4    Financial Services  Affluent Customer                  N      Yes   11.00  "
      ]
     },
     "execution_count": 289,
     "metadata": {},
     "output_type": "execute_result"
    }
   ],
   "source": [
    "demographic.head()"
   ]
  },
  {
   "cell_type": "code",
   "execution_count": 290,
   "id": "d3697dd7",
   "metadata": {},
   "outputs": [
    {
     "data": {
      "text/plain": [
       "customer_id                              0\n",
       "first_name                               0\n",
       "last_name                              125\n",
       "gender                                   0\n",
       "past_3_years_bike_related_purchases      0\n",
       "DOB                                     87\n",
       "job_title                              506\n",
       "job_industry_category                  656\n",
       "wealth_segment                           0\n",
       "deceased_indicator                       0\n",
       "owns_car                                 0\n",
       "tenure                                  87\n",
       "dtype: int64"
      ]
     },
     "execution_count": 290,
     "metadata": {},
     "output_type": "execute_result"
    }
   ],
   "source": [
    "demographic.isnull().sum()"
   ]
  },
  {
   "cell_type": "code",
   "execution_count": 291,
   "id": "2fb6a72a",
   "metadata": {},
   "outputs": [],
   "source": [
    "demographic['last_name']=demographic.groupby('first_name').last_name.bfill().ffill()"
   ]
  },
  {
   "cell_type": "code",
   "execution_count": 292,
   "id": "68408ccf",
   "metadata": {},
   "outputs": [
    {
     "data": {
      "text/plain": [
       "Female    2037\n",
       "Male      1871\n",
       "U           88\n",
       "Femal        1\n",
       "M            1\n",
       "Name: gender, dtype: int64"
      ]
     },
     "execution_count": 292,
     "metadata": {},
     "output_type": "execute_result"
    }
   ],
   "source": [
    "demographic['gender'].value_counts()"
   ]
  },
  {
   "cell_type": "code",
   "execution_count": 293,
   "id": "6fa9b2f9",
   "metadata": {},
   "outputs": [],
   "source": [
    "demographic['gender'].replace(to_replace='Femal',value='Female',inplace=True)"
   ]
  },
  {
   "cell_type": "code",
   "execution_count": 294,
   "id": "2a81c4ac",
   "metadata": {},
   "outputs": [],
   "source": [
    "demographic['gender'].replace(to_replace='M',value='Male',inplace=True)"
   ]
  },
  {
   "cell_type": "code",
   "execution_count": 295,
   "id": "56decd92",
   "metadata": {},
   "outputs": [
    {
     "data": {
      "text/plain": [
       "Female    2038\n",
       "Male      1872\n",
       "U           88\n",
       "Name: gender, dtype: int64"
      ]
     },
     "execution_count": 295,
     "metadata": {},
     "output_type": "execute_result"
    }
   ],
   "source": [
    "demographic['gender'].value_counts()"
   ]
  },
  {
   "cell_type": "code",
   "execution_count": 296,
   "id": "ab505bb3",
   "metadata": {},
   "outputs": [
    {
     "data": {
      "text/plain": [
       "0       2054-01-20\n",
       "1       2061-10-03\n",
       "2       1977-05-13\n",
       "3       2066-09-16\n",
       "4       1976-02-23\n",
       "           ...    \n",
       "3993    1975-08-09\n",
       "3994    2001-07-13\n",
       "3995           NaT\n",
       "3996    1973-10-24\n",
       "3997    1991-11-05\n",
       "Name: DOB, Length: 3998, dtype: object"
      ]
     },
     "execution_count": 296,
     "metadata": {},
     "output_type": "execute_result"
    }
   ],
   "source": [
    "#check if all dates are in correct format\n",
    "demographic['DOB']=demographic['DOB'].dt.date\n",
    "demographic['DOB']"
   ]
  },
  {
   "cell_type": "code",
   "execution_count": 298,
   "id": "3e0b85de",
   "metadata": {},
   "outputs": [],
   "source": [
    "demographic['DOB']=demographic['DOB'].fillna(lambda x: np.random.choice(demographic['DOB'],inplace=True))"
   ]
  },
  {
   "cell_type": "code",
   "execution_count": 299,
   "id": "1ea6d016",
   "metadata": {},
   "outputs": [
    {
     "data": {
      "text/plain": [
       "Business Systems Development Analyst    45\n",
       "Social Worker                           44\n",
       "Tax Accountant                          44\n",
       "Internal Auditor                        42\n",
       "Legal Assistant                         41\n",
       "                                        ..\n",
       "Database Administrator II                4\n",
       "Health Coach III                         3\n",
       "Health Coach I                           3\n",
       "Research Assistant III                   3\n",
       "Developer I                              1\n",
       "Name: job_title, Length: 195, dtype: int64"
      ]
     },
     "execution_count": 299,
     "metadata": {},
     "output_type": "execute_result"
    }
   ],
   "source": [
    "demographic['job_title'].value_counts()"
   ]
  },
  {
   "cell_type": "code",
   "execution_count": 300,
   "id": "44abd566",
   "metadata": {},
   "outputs": [],
   "source": [
    "demographic['job_title']=demographic['job_title'].fillna(method='bfill')"
   ]
  },
  {
   "cell_type": "code",
   "execution_count": 301,
   "id": "1910073c",
   "metadata": {},
   "outputs": [
    {
     "data": {
      "text/plain": [
       "Manufacturing         799\n",
       "Financial Services    773\n",
       "Health                601\n",
       "Retail                358\n",
       "Property              267\n",
       "IT                    223\n",
       "Entertainment         136\n",
       "Argiculture           113\n",
       "Telecommunications     72\n",
       "Name: job_industry_category, dtype: int64"
      ]
     },
     "execution_count": 301,
     "metadata": {},
     "output_type": "execute_result"
    }
   ],
   "source": [
    "demographic['job_industry_category'].value_counts()"
   ]
  },
  {
   "cell_type": "code",
   "execution_count": 302,
   "id": "b8893484",
   "metadata": {},
   "outputs": [],
   "source": [
    "demographic['job_industry_category']=demographic['job_industry_category'].fillna(method='bfill')"
   ]
  },
  {
   "cell_type": "code",
   "execution_count": 304,
   "id": "5511c51f",
   "metadata": {},
   "outputs": [
    {
     "data": {
      "text/plain": [
       "7.00     235\n",
       "5.00     228\n",
       "11.00    220\n",
       "10.00    218\n",
       "16.00    214\n",
       "8.00     211\n",
       "18.00    208\n",
       "12.00    202\n",
       "14.00    200\n",
       "9.00     200\n",
       "6.00     192\n",
       "13.00    191\n",
       "4.00     191\n",
       "17.00    182\n",
       "15.00    179\n",
       "1.00     166\n",
       "3.00     160\n",
       "19.00    159\n",
       "2.00     150\n",
       "20.00     96\n",
       "22.00     55\n",
       "21.00     54\n",
       "Name: tenure, dtype: int64"
      ]
     },
     "execution_count": 304,
     "metadata": {},
     "output_type": "execute_result"
    }
   ],
   "source": [
    "demographic['tenure'].value_counts()"
   ]
  },
  {
   "cell_type": "code",
   "execution_count": 308,
   "id": "d19ad792",
   "metadata": {},
   "outputs": [],
   "source": [
    "demographic['tenure']=demographic['tenure'].fillna(demographic['tenure'].median())"
   ]
  },
  {
   "cell_type": "code",
   "execution_count": 315,
   "id": "2b221a2a",
   "metadata": {},
   "outputs": [
    {
     "data": {
      "text/plain": [
       "Manufacturing         969\n",
       "Financial Services    939\n",
       "Health                707\n",
       "Retail                423\n",
       "Property              315\n",
       "IT                    265\n",
       "Entertainment         164\n",
       "Argiculture           127\n",
       "Telecommunications     88\n",
       "Name: job_industry_category, dtype: int64"
      ]
     },
     "execution_count": 315,
     "metadata": {},
     "output_type": "execute_result"
    }
   ],
   "source": [
    "demographic['job_industry_category'].value_counts()"
   ]
  },
  {
   "cell_type": "code",
   "execution_count": 316,
   "id": "f9df0e30",
   "metadata": {},
   "outputs": [],
   "source": [
    "demographic.dropna(subset=['job_industry_category'], inplace=True)"
   ]
  },
  {
   "cell_type": "code",
   "execution_count": 318,
   "id": "5d80e73d",
   "metadata": {},
   "outputs": [
    {
     "name": "stdout",
     "output_type": "stream",
     "text": [
      "<class 'pandas.core.frame.DataFrame'>\n",
      "Int64Index: 3997 entries, 0 to 3996\n",
      "Data columns (total 12 columns):\n",
      " #   Column                               Non-Null Count  Dtype  \n",
      "---  ------                               --------------  -----  \n",
      " 0   customer_id                          3997 non-null   int64  \n",
      " 1   first_name                           3997 non-null   object \n",
      " 2   last_name                            3997 non-null   object \n",
      " 3   gender                               3997 non-null   object \n",
      " 4   past_3_years_bike_related_purchases  3997 non-null   int64  \n",
      " 5   DOB                                  3997 non-null   object \n",
      " 6   job_title                            3997 non-null   object \n",
      " 7   job_industry_category                3997 non-null   object \n",
      " 8   wealth_segment                       3997 non-null   object \n",
      " 9   deceased_indicator                   3997 non-null   object \n",
      " 10  owns_car                             3997 non-null   object \n",
      " 11  tenure                               3997 non-null   float64\n",
      "dtypes: float64(1), int64(2), object(9)\n",
      "memory usage: 405.9+ KB\n"
     ]
    }
   ],
   "source": [
    "demographic.info()"
   ]
  },
  {
   "cell_type": "code",
   "execution_count": 319,
   "id": "c4eafce3",
   "metadata": {},
   "outputs": [],
   "source": [
    "demographic.to_csv('/Users/xuyangzhang/Desktop/FORAGE PROGRAM/kpmg/demographic_clean.csv',index=False)"
   ]
  },
  {
   "cell_type": "code",
   "execution_count": null,
   "id": "90ed2a25",
   "metadata": {},
   "outputs": [],
   "source": [
    "#clean address table"
   ]
  },
  {
   "cell_type": "code",
   "execution_count": 322,
   "id": "1ca2d969",
   "metadata": {},
   "outputs": [
    {
     "data": {
      "text/plain": [
       "customer_id           0\n",
       "address               0\n",
       "postcode              0\n",
       "state                 0\n",
       "country               0\n",
       "property_valuation    0\n",
       "dtype: int64"
      ]
     },
     "execution_count": 322,
     "metadata": {},
     "output_type": "execute_result"
    }
   ],
   "source": [
    "address.isnull().sum()"
   ]
  },
  {
   "cell_type": "code",
   "execution_count": 323,
   "id": "6ea08eb9",
   "metadata": {},
   "outputs": [
    {
     "data": {
      "text/html": [
       "<div>\n",
       "<style scoped>\n",
       "    .dataframe tbody tr th:only-of-type {\n",
       "        vertical-align: middle;\n",
       "    }\n",
       "\n",
       "    .dataframe tbody tr th {\n",
       "        vertical-align: top;\n",
       "    }\n",
       "\n",
       "    .dataframe thead th {\n",
       "        text-align: right;\n",
       "    }\n",
       "</style>\n",
       "<table border=\"1\" class=\"dataframe\">\n",
       "  <thead>\n",
       "    <tr style=\"text-align: right;\">\n",
       "      <th></th>\n",
       "      <th>customer_id</th>\n",
       "      <th>address</th>\n",
       "      <th>postcode</th>\n",
       "      <th>state</th>\n",
       "      <th>country</th>\n",
       "      <th>property_valuation</th>\n",
       "    </tr>\n",
       "  </thead>\n",
       "  <tbody>\n",
       "    <tr>\n",
       "      <th>0</th>\n",
       "      <td>1</td>\n",
       "      <td>060 Morning Avenue</td>\n",
       "      <td>2016</td>\n",
       "      <td>New South Wales</td>\n",
       "      <td>Australia</td>\n",
       "      <td>10</td>\n",
       "    </tr>\n",
       "    <tr>\n",
       "      <th>1</th>\n",
       "      <td>2</td>\n",
       "      <td>6 Meadow Vale Court</td>\n",
       "      <td>2153</td>\n",
       "      <td>New South Wales</td>\n",
       "      <td>Australia</td>\n",
       "      <td>10</td>\n",
       "    </tr>\n",
       "    <tr>\n",
       "      <th>2</th>\n",
       "      <td>4</td>\n",
       "      <td>0 Holy Cross Court</td>\n",
       "      <td>4211</td>\n",
       "      <td>QLD</td>\n",
       "      <td>Australia</td>\n",
       "      <td>9</td>\n",
       "    </tr>\n",
       "    <tr>\n",
       "      <th>3</th>\n",
       "      <td>5</td>\n",
       "      <td>17979 Del Mar Point</td>\n",
       "      <td>2448</td>\n",
       "      <td>New South Wales</td>\n",
       "      <td>Australia</td>\n",
       "      <td>4</td>\n",
       "    </tr>\n",
       "    <tr>\n",
       "      <th>4</th>\n",
       "      <td>6</td>\n",
       "      <td>9 Oakridge Court</td>\n",
       "      <td>3216</td>\n",
       "      <td>VIC</td>\n",
       "      <td>Australia</td>\n",
       "      <td>9</td>\n",
       "    </tr>\n",
       "  </tbody>\n",
       "</table>\n",
       "</div>"
      ],
      "text/plain": [
       "   customer_id              address  postcode            state    country  \\\n",
       "0            1   060 Morning Avenue      2016  New South Wales  Australia   \n",
       "1            2  6 Meadow Vale Court      2153  New South Wales  Australia   \n",
       "2            4   0 Holy Cross Court      4211              QLD  Australia   \n",
       "3            5  17979 Del Mar Point      2448  New South Wales  Australia   \n",
       "4            6     9 Oakridge Court      3216              VIC  Australia   \n",
       "\n",
       "   property_valuation  \n",
       "0                  10  \n",
       "1                  10  \n",
       "2                   9  \n",
       "3                   4  \n",
       "4                   9  "
      ]
     },
     "execution_count": 323,
     "metadata": {},
     "output_type": "execute_result"
    }
   ],
   "source": [
    "address.head()"
   ]
  },
  {
   "cell_type": "code",
   "execution_count": 324,
   "id": "e596a9ec",
   "metadata": {},
   "outputs": [
    {
     "data": {
      "text/plain": [
       "Australia    3999\n",
       "Name: country, dtype: int64"
      ]
     },
     "execution_count": 324,
     "metadata": {},
     "output_type": "execute_result"
    }
   ],
   "source": [
    "address['country'].value_counts()"
   ]
  },
  {
   "cell_type": "code",
   "execution_count": 325,
   "id": "7a92984a",
   "metadata": {},
   "outputs": [
    {
     "data": {
      "text/plain": [
       "9     647\n",
       "8     646\n",
       "10    577\n",
       "7     493\n",
       "11    281\n",
       "6     238\n",
       "5     225\n",
       "4     214\n",
       "12    195\n",
       "3     186\n",
       "1     154\n",
       "2     143\n",
       "Name: property_valuation, dtype: int64"
      ]
     },
     "execution_count": 325,
     "metadata": {},
     "output_type": "execute_result"
    }
   ],
   "source": [
    "address['property_valuation'].value_counts()"
   ]
  },
  {
   "cell_type": "code",
   "execution_count": 326,
   "id": "926b502d",
   "metadata": {},
   "outputs": [
    {
     "data": {
      "text/plain": [
       "NSW                2054\n",
       "VIC                 939\n",
       "QLD                 838\n",
       "New South Wales      86\n",
       "Victoria             82\n",
       "Name: state, dtype: int64"
      ]
     },
     "execution_count": 326,
     "metadata": {},
     "output_type": "execute_result"
    }
   ],
   "source": [
    "address['state'].value_counts()"
   ]
  },
  {
   "cell_type": "code",
   "execution_count": 329,
   "id": "49d9515a",
   "metadata": {},
   "outputs": [],
   "source": [
    "address['state']=address['state'].replace({'New South Wales':'NSW','Victoria':'VIC'})"
   ]
  },
  {
   "cell_type": "code",
   "execution_count": 330,
   "id": "04f20fef",
   "metadata": {},
   "outputs": [
    {
     "data": {
      "text/plain": [
       "NSW    2140\n",
       "VIC    1021\n",
       "QLD     838\n",
       "Name: state, dtype: int64"
      ]
     },
     "execution_count": 330,
     "metadata": {},
     "output_type": "execute_result"
    }
   ],
   "source": [
    "address['state'].value_counts()"
   ]
  },
  {
   "cell_type": "code",
   "execution_count": 331,
   "id": "204d4c66",
   "metadata": {},
   "outputs": [
    {
     "data": {
      "text/plain": [
       "True"
      ]
     },
     "execution_count": 331,
     "metadata": {},
     "output_type": "execute_result"
    }
   ],
   "source": [
    "#check duplicate\n",
    "pd.Series(address['customer_id']).is_unique"
   ]
  },
  {
   "cell_type": "code",
   "execution_count": 334,
   "id": "83c4d5a8",
   "metadata": {},
   "outputs": [
    {
     "data": {
      "text/plain": [
       "False    3999\n",
       "dtype: int64"
      ]
     },
     "execution_count": 334,
     "metadata": {},
     "output_type": "execute_result"
    }
   ],
   "source": [
    "address.duplicated(subset=['address','postcode'],keep='first').value_counts()"
   ]
  },
  {
   "cell_type": "code",
   "execution_count": 335,
   "id": "66f05b55",
   "metadata": {},
   "outputs": [],
   "source": [
    "address.to_csv('/Users/xuyangzhang/Desktop/FORAGE PROGRAM/kpmg/address_clean.csv',index=False)"
   ]
  },
  {
   "cell_type": "code",
   "execution_count": null,
   "id": "856e2c4c",
   "metadata": {},
   "outputs": [],
   "source": []
  }
 ],
 "metadata": {
  "kernelspec": {
   "display_name": "Python 3 (ipykernel)",
   "language": "python",
   "name": "python3"
  },
  "language_info": {
   "codemirror_mode": {
    "name": "ipython",
    "version": 3
   },
   "file_extension": ".py",
   "mimetype": "text/x-python",
   "name": "python",
   "nbconvert_exporter": "python",
   "pygments_lexer": "ipython3",
   "version": "3.9.7"
  }
 },
 "nbformat": 4,
 "nbformat_minor": 5
}
